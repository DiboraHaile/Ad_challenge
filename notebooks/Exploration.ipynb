{
  "nbformat": 4,
  "nbformat_minor": 0,
  "metadata": {
    "colab": {
      "name": "Exploration.ipynb",
      "provenance": [],
      "collapsed_sections": []
    },
    "kernelspec": {
      "display_name": "Python 3",
      "name": "python3"
    },
    "language_info": {
      "name": "python"
    }
  },
  "cells": [
    {
      "cell_type": "code",
      "metadata": {
        "id": "2c03HCCt-vvI"
      },
      "source": [
        "import seaborn as sn\n",
        "from sklearn.preprocessing import LabelEncoder\n",
        "from sklearn.model_selection import train_test_split\n",
        "from sklearn.ensemble import RandomForestClassifier\n",
        "from sklearn.feature_selection import SelectFromModel\n",
        "import numpy as np\n",
        "import matplotlib.pyplot as plt"
      ],
      "execution_count": 44,
      "outputs": []
    },
    {
      "cell_type": "markdown",
      "metadata": {
        "id": "Dxki8oHT8tq-"
      },
      "source": [
        "Id: a unique identifier for each row. Each row is recorded whenever an ad is rendered on a user's device.\n",
        "\n",
        "CampaignId: A campaign is an ad placement session for a single client and single product. The campaignId is used to distinguish different campaigns. \n",
        "Within a single campaign, there could be multiple strategies who are served under what is called an adgroup, identified by the next column.\n",
        "\n",
        "Adformat: the size of the creative expressed as width and height.\n",
        "\n",
        "FoldPosition:the declared position of the ad in the view space of the user’s device. Possible values are 1 (any), 2 (above), 3 (below), 4 (unknown).\n",
        "\n",
        "DeviceType: the numeric ID for the type of device on which the impression was served. For supported values, see Device Types.\n",
        "\n",
        "OS: The numeric ID for the operating system (OS) associated with the impression event. For supported values, see Operating Systems. \n",
        "\n",
        "Site: The address of the website where the impression was purchased and the creative was displayed. This is the column you are supposed to give a score to and rank in task one.\n",
        "\n",
        "engagement: a binary value that indicates if the user interacted with the ad or not.\n"
      ]
    },
    {
      "cell_type": "code",
      "metadata": {
        "colab": {
          "base_uri": "https://localhost:8080/"
        },
        "id": "LYmNTBI1GAfP",
        "outputId": "867293aa-e744-475a-f1c1-80f0f4c3d6a8"
      },
      "source": [
        "%cd /content/drive/MyDrive"
      ],
      "execution_count": 4,
      "outputs": [
        {
          "output_type": "stream",
          "name": "stdout",
          "text": [
            "/content/drive/MyDrive\n"
          ]
        }
      ]
    },
    {
      "cell_type": "code",
      "metadata": {
        "id": "5gih5FwYH-L1"
      },
      "source": [
        "import pandas as pd\n",
        "df = pd.read_csv(\"/content/drive/MyDrive/Copy of impression_log.csv\")"
      ],
      "execution_count": 5,
      "outputs": []
    },
    {
      "cell_type": "code",
      "metadata": {
        "colab": {
          "base_uri": "https://localhost:8080/",
          "height": 496
        },
        "id": "ZiBYA0IoIHnb",
        "outputId": "93058b2a-2f4b-4a14-c196-ca4833da0dab"
      },
      "source": [
        "df.head()"
      ],
      "execution_count": 6,
      "outputs": [
        {
          "output_type": "execute_result",
          "data": {
            "text/html": [
              "<div>\n",
              "<style scoped>\n",
              "    .dataframe tbody tr th:only-of-type {\n",
              "        vertical-align: middle;\n",
              "    }\n",
              "\n",
              "    .dataframe tbody tr th {\n",
              "        vertical-align: top;\n",
              "    }\n",
              "\n",
              "    .dataframe thead th {\n",
              "        text-align: right;\n",
              "    }\n",
              "</style>\n",
              "<table border=\"1\" class=\"dataframe\">\n",
              "  <thead>\n",
              "    <tr style=\"text-align: right;\">\n",
              "      <th></th>\n",
              "      <th>Unnamed: 0</th>\n",
              "      <th>LogEntryTime</th>\n",
              "      <th>AdvertiserId</th>\n",
              "      <th>CampaignId</th>\n",
              "      <th>AdGroupId</th>\n",
              "      <th>AudienceID</th>\n",
              "      <th>CreativeId</th>\n",
              "      <th>AdFormat</th>\n",
              "      <th>Frequency</th>\n",
              "      <th>Site</th>\n",
              "      <th>FoldPosition</th>\n",
              "      <th>Country</th>\n",
              "      <th>Region</th>\n",
              "      <th>City</th>\n",
              "      <th>DeviceType</th>\n",
              "      <th>OSFamily</th>\n",
              "      <th>OS</th>\n",
              "      <th>Browser</th>\n",
              "      <th>DeviceMake</th>\n",
              "      <th>AdvertiserCurrency</th>\n",
              "      <th>click</th>\n",
              "      <th>engagement</th>\n",
              "      <th>video-end</th>\n",
              "      <th>video-start</th>\n",
              "    </tr>\n",
              "  </thead>\n",
              "  <tbody>\n",
              "    <tr>\n",
              "      <th>0</th>\n",
              "      <td>00006a06-14e2-47d9-b999-fbeeac67dd2b</td>\n",
              "      <td>2021-09-25 00:22:37</td>\n",
              "      <td>868ko1s</td>\n",
              "      <td>t29si1w</td>\n",
              "      <td>e9qf2dm</td>\n",
              "      <td>0</td>\n",
              "      <td>9wkrkl5j</td>\n",
              "      <td>300x250</td>\n",
              "      <td>0</td>\n",
              "      <td>scrabblewordfinder.org</td>\n",
              "      <td>4</td>\n",
              "      <td>United States</td>\n",
              "      <td>New York</td>\n",
              "      <td>Staten Island</td>\n",
              "      <td>4</td>\n",
              "      <td>5.0</td>\n",
              "      <td>173.0</td>\n",
              "      <td>7.0</td>\n",
              "      <td>Apple</td>\n",
              "      <td>0.006409</td>\n",
              "      <td>0</td>\n",
              "      <td>0</td>\n",
              "      <td>0</td>\n",
              "      <td>0</td>\n",
              "    </tr>\n",
              "    <tr>\n",
              "      <th>1</th>\n",
              "      <td>00007898-29c9-43f1-82e5-43c5a856d0f4</td>\n",
              "      <td>2021-09-25 02:31:35</td>\n",
              "      <td>868ko1s</td>\n",
              "      <td>fiwemi8</td>\n",
              "      <td>8m750eh</td>\n",
              "      <td>0</td>\n",
              "      <td>zhre4utp</td>\n",
              "      <td>300x250</td>\n",
              "      <td>0</td>\n",
              "      <td>www.thecoli.com</td>\n",
              "      <td>2</td>\n",
              "      <td>United States</td>\n",
              "      <td>Massachusetts</td>\n",
              "      <td>Milton</td>\n",
              "      <td>4</td>\n",
              "      <td>5.0</td>\n",
              "      <td>173.0</td>\n",
              "      <td>7.0</td>\n",
              "      <td>Apple</td>\n",
              "      <td>0.002778</td>\n",
              "      <td>0</td>\n",
              "      <td>0</td>\n",
              "      <td>0</td>\n",
              "      <td>0</td>\n",
              "    </tr>\n",
              "    <tr>\n",
              "      <th>2</th>\n",
              "      <td>0000d06f-5239-4123-af41-bd1c0e0e8d48</td>\n",
              "      <td>2021-09-25 20:12:52</td>\n",
              "      <td>868ko1s</td>\n",
              "      <td>awbu4q4</td>\n",
              "      <td>oropida</td>\n",
              "      <td>lnqjhqm</td>\n",
              "      <td>ab6spdyi</td>\n",
              "      <td>300x250</td>\n",
              "      <td>0</td>\n",
              "      <td>www.today.com</td>\n",
              "      <td>3</td>\n",
              "      <td>United States</td>\n",
              "      <td>New York</td>\n",
              "      <td>Brooklyn</td>\n",
              "      <td>4</td>\n",
              "      <td>6.0</td>\n",
              "      <td>156.0</td>\n",
              "      <td>6.0</td>\n",
              "      <td>Samsung</td>\n",
              "      <td>0.008947</td>\n",
              "      <td>0</td>\n",
              "      <td>0</td>\n",
              "      <td>0</td>\n",
              "      <td>0</td>\n",
              "    </tr>\n",
              "    <tr>\n",
              "      <th>3</th>\n",
              "      <td>0000d623-aaf1-4be8-81f7-eb6c96b30aee</td>\n",
              "      <td>2021-09-22 16:04:12</td>\n",
              "      <td>868ko1s</td>\n",
              "      <td>t29si1w</td>\n",
              "      <td>e9qf2dm</td>\n",
              "      <td>0</td>\n",
              "      <td>2spj6krt</td>\n",
              "      <td>300x250</td>\n",
              "      <td>0</td>\n",
              "      <td>www.cbssports.com</td>\n",
              "      <td>4</td>\n",
              "      <td>United States</td>\n",
              "      <td>New York</td>\n",
              "      <td>Queens</td>\n",
              "      <td>4</td>\n",
              "      <td>5.0</td>\n",
              "      <td>101.0</td>\n",
              "      <td>7.0</td>\n",
              "      <td>Apple</td>\n",
              "      <td>0.007673</td>\n",
              "      <td>0</td>\n",
              "      <td>0</td>\n",
              "      <td>0</td>\n",
              "      <td>0</td>\n",
              "    </tr>\n",
              "    <tr>\n",
              "      <th>4</th>\n",
              "      <td>0000e836-9778-4ea9-b686-9e7bf26f90bd</td>\n",
              "      <td>2021-09-22 14:33:59</td>\n",
              "      <td>868ko1s</td>\n",
              "      <td>awbu4q4</td>\n",
              "      <td>oropida</td>\n",
              "      <td>lnqjhqm</td>\n",
              "      <td>ql1q5nq9</td>\n",
              "      <td>300x250</td>\n",
              "      <td>0</td>\n",
              "      <td>backroadramblers.com</td>\n",
              "      <td>3</td>\n",
              "      <td>United States</td>\n",
              "      <td>New York</td>\n",
              "      <td>The Bronx</td>\n",
              "      <td>4</td>\n",
              "      <td>5.0</td>\n",
              "      <td>101.0</td>\n",
              "      <td>7.0</td>\n",
              "      <td>Apple</td>\n",
              "      <td>0.008852</td>\n",
              "      <td>0</td>\n",
              "      <td>1</td>\n",
              "      <td>1</td>\n",
              "      <td>1</td>\n",
              "    </tr>\n",
              "  </tbody>\n",
              "</table>\n",
              "</div>"
            ],
            "text/plain": [
              "                             Unnamed: 0  ... video-start\n",
              "0  00006a06-14e2-47d9-b999-fbeeac67dd2b  ...           0\n",
              "1  00007898-29c9-43f1-82e5-43c5a856d0f4  ...           0\n",
              "2  0000d06f-5239-4123-af41-bd1c0e0e8d48  ...           0\n",
              "3  0000d623-aaf1-4be8-81f7-eb6c96b30aee  ...           0\n",
              "4  0000e836-9778-4ea9-b686-9e7bf26f90bd  ...           1\n",
              "\n",
              "[5 rows x 24 columns]"
            ]
          },
          "metadata": {},
          "execution_count": 6
        }
      ]
    },
    {
      "cell_type": "code",
      "metadata": {
        "colab": {
          "base_uri": "https://localhost:8080/"
        },
        "id": "L6EQNNEmdEhC",
        "outputId": "f4f3f99a-8f24-4e4a-87af-92f8eea1147e"
      },
      "source": [
        "df.nunique()"
      ],
      "execution_count": 7,
      "outputs": [
        {
          "output_type": "execute_result",
          "data": {
            "text/plain": [
              "Unnamed: 0            99986\n",
              "LogEntryTime          89751\n",
              "AdvertiserId              1\n",
              "CampaignId               13\n",
              "AdGroupId                25\n",
              "AudienceID                6\n",
              "CreativeId              282\n",
              "AdFormat                  2\n",
              "Frequency                 1\n",
              "Site                   8538\n",
              "FoldPosition              3\n",
              "Country                   1\n",
              "Region                   11\n",
              "City                   1295\n",
              "DeviceType                3\n",
              "OSFamily                  6\n",
              "OS                       49\n",
              "Browser                   8\n",
              "DeviceMake              130\n",
              "AdvertiserCurrency    55156\n",
              "click                     2\n",
              "engagement                2\n",
              "video-end                 2\n",
              "video-start               2\n",
              "dtype: int64"
            ]
          },
          "metadata": {},
          "execution_count": 7
        }
      ]
    },
    {
      "cell_type": "markdown",
      "metadata": {
        "id": "A3zcwbApF25p"
      },
      "source": [
        ""
      ]
    },
    {
      "cell_type": "markdown",
      "metadata": {
        "id": "Tp9KxQOccmYQ"
      },
      "source": [
        "Task 1\n",
        "Write a function that scores each site in each campaign, assigns a score to each site in each campaign and rank them accordingly. The scoring should be done in such a way that a higher score promises having high engagement rates for ads rendered on that site in the future\n"
      ]
    },
    {
      "cell_type": "markdown",
      "metadata": {
        "id": "8pVMmo6NdPLU"
      },
      "source": [
        "### Calculate the engagement rate for each site in each campaign\n",
        "- You can calculate engagement rate for a site by dividing the number of engagements (number of rows having that site and the value “1” in the engagement column) by the number of impressions ( total number of rows having that site ) ."
      ]
    },
    {
      "cell_type": "code",
      "metadata": {
        "colab": {
          "base_uri": "https://localhost:8080/",
          "height": 419
        },
        "id": "dJWbgnM-c7pt",
        "outputId": "c62a956a-2bfc-4579-ea93-076bec75b07a"
      },
      "source": [
        "\n",
        "engagement = df.groupby([\"CampaignId\",\"Site\"]).apply(lambda row: row[\"engagement\"].sum())\n",
        "campaign_ids = [key[0] for key in engagement.keys()]\n",
        "sites = [key[1] for key in engagement.keys()]\n",
        "engagement_count_df = pd.DataFrame({\"engagement_count\":engagement,\"Campaign_id\":campaign_ids,\"site\":sites})\n",
        "# The number of rows having the sites\n",
        "row_count_sites = df.groupby([\"Site\"]).count()[\"CampaignId\"]\n",
        "total_number_rows= pd.DataFrame({\"Count_site_apperances\":row_count_sites,\"site\":row_count_sites.keys()})\n",
        "\n",
        "engagement_rate_df = engagement_count_df.merge(total_number_rows, left_on='site', right_on='site')\n",
        "engagement_rate_df[\"engagement_rate\"] = engagement_rate_df.apply(lambda row: row[\"engagement_count\"]/row[\"Count_site_apperances\"],axis=1)\n",
        "engagement_rate_df\n"
      ],
      "execution_count": 8,
      "outputs": [
        {
          "output_type": "execute_result",
          "data": {
            "text/html": [
              "<div>\n",
              "<style scoped>\n",
              "    .dataframe tbody tr th:only-of-type {\n",
              "        vertical-align: middle;\n",
              "    }\n",
              "\n",
              "    .dataframe tbody tr th {\n",
              "        vertical-align: top;\n",
              "    }\n",
              "\n",
              "    .dataframe thead th {\n",
              "        text-align: right;\n",
              "    }\n",
              "</style>\n",
              "<table border=\"1\" class=\"dataframe\">\n",
              "  <thead>\n",
              "    <tr style=\"text-align: right;\">\n",
              "      <th></th>\n",
              "      <th>engagement_count</th>\n",
              "      <th>Campaign_id</th>\n",
              "      <th>site</th>\n",
              "      <th>Count_site_apperances</th>\n",
              "      <th>engagement_rate</th>\n",
              "    </tr>\n",
              "  </thead>\n",
              "  <tbody>\n",
              "    <tr>\n",
              "      <th>0</th>\n",
              "      <td>0</td>\n",
              "      <td>0k2sw7w</td>\n",
              "      <td>247sports.com</td>\n",
              "      <td>632</td>\n",
              "      <td>0.000000</td>\n",
              "    </tr>\n",
              "    <tr>\n",
              "      <th>1</th>\n",
              "      <td>1</td>\n",
              "      <td>5qtwg2a</td>\n",
              "      <td>247sports.com</td>\n",
              "      <td>632</td>\n",
              "      <td>0.001582</td>\n",
              "    </tr>\n",
              "    <tr>\n",
              "      <th>2</th>\n",
              "      <td>73</td>\n",
              "      <td>758ifo0</td>\n",
              "      <td>247sports.com</td>\n",
              "      <td>632</td>\n",
              "      <td>0.115506</td>\n",
              "    </tr>\n",
              "    <tr>\n",
              "      <th>3</th>\n",
              "      <td>2</td>\n",
              "      <td>8muucqy</td>\n",
              "      <td>247sports.com</td>\n",
              "      <td>632</td>\n",
              "      <td>0.003165</td>\n",
              "    </tr>\n",
              "    <tr>\n",
              "      <th>4</th>\n",
              "      <td>2</td>\n",
              "      <td>9n6o7jf</td>\n",
              "      <td>247sports.com</td>\n",
              "      <td>632</td>\n",
              "      <td>0.003165</td>\n",
              "    </tr>\n",
              "    <tr>\n",
              "      <th>...</th>\n",
              "      <td>...</td>\n",
              "      <td>...</td>\n",
              "      <td>...</td>\n",
              "      <td>...</td>\n",
              "      <td>...</td>\n",
              "    </tr>\n",
              "    <tr>\n",
              "      <th>19977</th>\n",
              "      <td>0</td>\n",
              "      <td>z5cjizq</td>\n",
              "      <td>www.onionringsandthings.com</td>\n",
              "      <td>1</td>\n",
              "      <td>0.000000</td>\n",
              "    </tr>\n",
              "    <tr>\n",
              "      <th>19978</th>\n",
              "      <td>0</td>\n",
              "      <td>z5cjizq</td>\n",
              "      <td>www.savvyhorsewoman.com</td>\n",
              "      <td>1</td>\n",
              "      <td>0.000000</td>\n",
              "    </tr>\n",
              "    <tr>\n",
              "      <th>19979</th>\n",
              "      <td>0</td>\n",
              "      <td>z5cjizq</td>\n",
              "      <td>www.techadvisor.com</td>\n",
              "      <td>1</td>\n",
              "      <td>0.000000</td>\n",
              "    </tr>\n",
              "    <tr>\n",
              "      <th>19980</th>\n",
              "      <td>0</td>\n",
              "      <td>z5cjizq</td>\n",
              "      <td>www.tidefans.com</td>\n",
              "      <td>3</td>\n",
              "      <td>0.000000</td>\n",
              "    </tr>\n",
              "    <tr>\n",
              "      <th>19981</th>\n",
              "      <td>0</td>\n",
              "      <td>z5cjizq</td>\n",
              "      <td>www.wsbtv.com</td>\n",
              "      <td>1</td>\n",
              "      <td>0.000000</td>\n",
              "    </tr>\n",
              "  </tbody>\n",
              "</table>\n",
              "<p>19982 rows × 5 columns</p>\n",
              "</div>"
            ],
            "text/plain": [
              "       engagement_count Campaign_id  ... Count_site_apperances  engagement_rate\n",
              "0                     0     0k2sw7w  ...                   632         0.000000\n",
              "1                     1     5qtwg2a  ...                   632         0.001582\n",
              "2                    73     758ifo0  ...                   632         0.115506\n",
              "3                     2     8muucqy  ...                   632         0.003165\n",
              "4                     2     9n6o7jf  ...                   632         0.003165\n",
              "...                 ...         ...  ...                   ...              ...\n",
              "19977                 0     z5cjizq  ...                     1         0.000000\n",
              "19978                 0     z5cjizq  ...                     1         0.000000\n",
              "19979                 0     z5cjizq  ...                     1         0.000000\n",
              "19980                 0     z5cjizq  ...                     3         0.000000\n",
              "19981                 0     z5cjizq  ...                     1         0.000000\n",
              "\n",
              "[19982 rows x 5 columns]"
            ]
          },
          "metadata": {},
          "execution_count": 8
        }
      ]
    },
    {
      "cell_type": "markdown",
      "metadata": {
        "id": "84M77kIQ-cWM"
      },
      "source": [
        "In order to give the right score we need to make sure, this data collected is a good representative for the real time and future occurences.\n"
      ]
    },
    {
      "cell_type": "code",
      "metadata": {
        "colab": {
          "base_uri": "https://localhost:8080/",
          "height": 386
        },
        "id": "rLntXlP4_Psb",
        "outputId": "4c70d0d1-1d73-47ea-a125-0c37aa694903"
      },
      "source": [
        "sn.displot(df['engagement'])"
      ],
      "execution_count": 15,
      "outputs": [
        {
          "output_type": "execute_result",
          "data": {
            "text/plain": [
              "<seaborn.axisgrid.FacetGrid at 0x7f312c293990>"
            ]
          },
          "metadata": {},
          "execution_count": 15
        },
        {
          "output_type": "display_data",
          "data": {
            "image/png": "[encoded data removed]",
            "text/plain": [
              "<Figure size 360x360 with 1 Axes>"
            ]
          },
          "metadata": {
            "needs_background": "light"
          }
        }
      ]
    },
    {
      "cell_type": "code",
      "metadata": {
        "colab": {
          "base_uri": "https://localhost:8080/",
          "height": 386
        },
        "id": "gNp43CLpOTKX",
        "outputId": "56e56de5-fa89-4553-e491-ea147ff0271d"
      },
      "source": [
        "sn.displot(engagement_rate_df['engagement_rate'])"
      ],
      "execution_count": 14,
      "outputs": [
        {
          "output_type": "execute_result",
          "data": {
            "text/plain": [
              "<seaborn.axisgrid.FacetGrid at 0x7f31397967d0>"
            ]
          },
          "metadata": {},
          "execution_count": 14
        },
        {
          "output_type": "display_data",
          "data": {
            "image/png": "[encoded data removed]",
            "text/plain": [
              "<Figure size 360x360 with 1 Axes>"
            ]
          },
          "metadata": {
            "needs_background": "light"
          }
        }
      ]
    },
    {
      "cell_type": "code",
      "metadata": {
        "id": "Jf_cooboSvru"
      },
      "source": [
        "engagement_rate_df[engagement_rate[]]"
      ],
      "execution_count": null,
      "outputs": []
    },
    {
      "cell_type": "markdown",
      "metadata": {
        "id": "VtXdwC00Sogm"
      },
      "source": [
        "From the above plots we can see that our data might be imbalanced, there are around"
      ]
    },
    {
      "cell_type": "code",
      "metadata": {
        "colab": {
          "base_uri": "https://localhost:8080/"
        },
        "id": "PCc1kufBNaCP",
        "outputId": "a7fb1596-5a5d-4531-e6a4-c8305974463c"
      },
      "source": [
        "# AdFormat, FoldPosition, OS, DeviceType) on whether a user will engage with an ad or not\n",
        "df_engagement_factors = df[[\"AdFormat\", \"FoldPosition\", \"OS\", \"DeviceType\",\"engagement\"]]\n",
        "df_engagement_factors.info()\n",
        "\n"
      ],
      "execution_count": 18,
      "outputs": [
        {
          "output_type": "stream",
          "name": "stdout",
          "text": [
            "<class 'pandas.core.frame.DataFrame'>\n",
            "RangeIndex: 100000 entries, 0 to 99999\n",
            "Data columns (total 5 columns):\n",
            " #   Column        Non-Null Count   Dtype  \n",
            "---  ------        --------------   -----  \n",
            " 0   AdFormat      100000 non-null  object \n",
            " 1   FoldPosition  100000 non-null  int64  \n",
            " 2   OS            99993 non-null   float64\n",
            " 3   DeviceType    100000 non-null  int64  \n",
            " 4   engagement    100000 non-null  int64  \n",
            "dtypes: float64(1), int64(3), object(1)\n",
            "memory usage: 3.8+ MB\n"
          ]
        }
      ]
    },
    {
      "cell_type": "code",
      "metadata": {
        "id": "g_OAdEsgHCzp"
      },
      "source": [
        "df_engagement_factors.dropna(inplace=True)"
      ],
      "execution_count": null,
      "outputs": []
    },
    {
      "cell_type": "code",
      "metadata": {
        "colab": {
          "base_uri": "https://localhost:8080/"
        },
        "id": "PPTr3g6YHJnP",
        "outputId": "9776e61e-092d-46d6-a6a3-394afac8f28a"
      },
      "source": [
        "df_engagement_factors.info()"
      ],
      "execution_count": 20,
      "outputs": [
        {
          "output_type": "stream",
          "name": "stdout",
          "text": [
            "<class 'pandas.core.frame.DataFrame'>\n",
            "Int64Index: 99993 entries, 0 to 99999\n",
            "Data columns (total 5 columns):\n",
            " #   Column        Non-Null Count  Dtype  \n",
            "---  ------        --------------  -----  \n",
            " 0   AdFormat      99993 non-null  object \n",
            " 1   FoldPosition  99993 non-null  int64  \n",
            " 2   OS            99993 non-null  float64\n",
            " 3   DeviceType    99993 non-null  int64  \n",
            " 4   engagement    99993 non-null  int64  \n",
            "dtypes: float64(1), int64(3), object(1)\n",
            "memory usage: 4.6+ MB\n"
          ]
        }
      ]
    },
    {
      "cell_type": "code",
      "metadata": {
        "colab": {
          "base_uri": "https://localhost:8080/"
        },
        "id": "FvG-5SzTHNzX",
        "outputId": "28a79e65-3b5a-47ef-ec2d-74135bc73fa1"
      },
      "source": [
        "df_engagement_factors.nunique()"
      ],
      "execution_count": 22,
      "outputs": [
        {
          "output_type": "execute_result",
          "data": {
            "text/plain": [
              "AdFormat         2\n",
              "FoldPosition     3\n",
              "OS              49\n",
              "DeviceType       3\n",
              "engagement       2\n",
              "dtype: int64"
            ]
          },
          "metadata": {},
          "execution_count": 22
        }
      ]
    },
    {
      "cell_type": "markdown",
      "metadata": {
        "id": "h0_eMwPeKqkE"
      },
      "source": [
        "All columns are numerical except AdFormat, we will encode it"
      ]
    },
    {
      "cell_type": "code",
      "metadata": {
        "colab": {
          "base_uri": "https://localhost:8080/"
        },
        "id": "MJ1JLAEoKP9e",
        "outputId": "bac21114-bb19-41d0-ad5e-88bfba7b56f4"
      },
      "source": [
        "df_engagement_factors['AdFormat'] = encode(df_engagement_factors['AdFormat'])"
      ],
      "execution_count": 28,
      "outputs": [
        {
          "output_type": "stream",
          "name": "stderr",
          "text": [
            "/usr/local/lib/python3.7/dist-packages/ipykernel_launcher.py:1: SettingWithCopyWarning: \n",
            "A value is trying to be set on a copy of a slice from a DataFrame.\n",
            "Try using .loc[row_indexer,col_indexer] = value instead\n",
            "\n",
            "See the caveats in the documentation: https://pandas.pydata.org/pandas-docs/stable/user_guide/indexing.html#returning-a-view-versus-a-copy\n",
            "  \"\"\"Entry point for launching an IPython kernel.\n"
          ]
        }
      ]
    },
    {
      "cell_type": "code",
      "metadata": {
        "colab": {
          "base_uri": "https://localhost:8080/",
          "height": 204
        },
        "id": "r7r912ixKJb9",
        "outputId": "2d84b24f-10c3-4486-d895-5c176df55c3c"
      },
      "source": [
        ""
      ],
      "execution_count": 30,
      "outputs": [
        {
          "output_type": "execute_result",
          "data": {
            "text/html": [
              "<div>\n",
              "<style scoped>\n",
              "    .dataframe tbody tr th:only-of-type {\n",
              "        vertical-align: middle;\n",
              "    }\n",
              "\n",
              "    .dataframe tbody tr th {\n",
              "        vertical-align: top;\n",
              "    }\n",
              "\n",
              "    .dataframe thead th {\n",
              "        text-align: right;\n",
              "    }\n",
              "</style>\n",
              "<table border=\"1\" class=\"dataframe\">\n",
              "  <thead>\n",
              "    <tr style=\"text-align: right;\">\n",
              "      <th></th>\n",
              "      <th>AdFormat</th>\n",
              "      <th>FoldPosition</th>\n",
              "      <th>OS</th>\n",
              "      <th>DeviceType</th>\n",
              "      <th>engagement</th>\n",
              "    </tr>\n",
              "  </thead>\n",
              "  <tbody>\n",
              "    <tr>\n",
              "      <th>0</th>\n",
              "      <td>0</td>\n",
              "      <td>4</td>\n",
              "      <td>173.0</td>\n",
              "      <td>4</td>\n",
              "      <td>0</td>\n",
              "    </tr>\n",
              "    <tr>\n",
              "      <th>1</th>\n",
              "      <td>0</td>\n",
              "      <td>2</td>\n",
              "      <td>173.0</td>\n",
              "      <td>4</td>\n",
              "      <td>0</td>\n",
              "    </tr>\n",
              "    <tr>\n",
              "      <th>2</th>\n",
              "      <td>0</td>\n",
              "      <td>3</td>\n",
              "      <td>156.0</td>\n",
              "      <td>4</td>\n",
              "      <td>0</td>\n",
              "    </tr>\n",
              "    <tr>\n",
              "      <th>3</th>\n",
              "      <td>0</td>\n",
              "      <td>4</td>\n",
              "      <td>101.0</td>\n",
              "      <td>4</td>\n",
              "      <td>0</td>\n",
              "    </tr>\n",
              "    <tr>\n",
              "      <th>4</th>\n",
              "      <td>0</td>\n",
              "      <td>3</td>\n",
              "      <td>101.0</td>\n",
              "      <td>4</td>\n",
              "      <td>1</td>\n",
              "    </tr>\n",
              "  </tbody>\n",
              "</table>\n",
              "</div>"
            ],
            "text/plain": [
              "   AdFormat  FoldPosition     OS  DeviceType  engagement\n",
              "0         0             4  173.0           4           0\n",
              "1         0             2  173.0           4           0\n",
              "2         0             3  156.0           4           0\n",
              "3         0             4  101.0           4           0\n",
              "4         0             3  101.0           4           1"
            ]
          },
          "metadata": {},
          "execution_count": 30
        }
      ]
    },
    {
      "cell_type": "code",
      "metadata": {
        "colab": {
          "base_uri": "https://localhost:8080/",
          "height": 743
        },
        "id": "o-L3ZJ9eJ5r7",
        "outputId": "2ce09c68-8132-4097-ab48-c09c178709b1"
      },
      "source": [
        "sn.pairplot(df_engagement_factors,vars=[\"AdFormat\", \"FoldPosition\", \"OS\", \"DeviceType\"],hue=\"engagement\")"
      ],
      "execution_count": 31,
      "outputs": [
        {
          "output_type": "execute_result",
          "data": {
            "text/plain": [
              "<seaborn.axisgrid.PairGrid at 0x7f312b4c4650>"
            ]
          },
          "metadata": {},
          "execution_count": 31
        },
        {
          "output_type": "display_data",
          "data": {
            "image/png": "[encoded data removed]",
            "text/plain": [
              "<Figure size 791.5x720 with 20 Axes>"
            ]
          },
          "metadata": {
            "needs_background": "light"
          }
        }
      ]
    },
    {
      "cell_type": "code",
      "metadata": {
        "id": "8JIQQAWpJXHe"
      },
      "source": [
        "\n",
        "def encode(categorical_data):\n",
        "  \"\"\" Encode labels \"\"\"\n",
        "  le = LabelEncoder()\n",
        "  return le.fit_transform(categorical_data)\n",
        "\n",
        "class FeatureEngineering:\n",
        "  def __init__(self,df):\n",
        "    self.df = df \n",
        "\n",
        "  def execute_feature_engineering(self):\n",
        "    \"\"\" execute feature engineering by calling\n",
        "    prepare_data function and select important\n",
        "    features using select_features fun\"\"\"\n",
        "    self.prepare_data()\n",
        "    self.select_features()\n",
        "\n",
        "  def prepare_data(self):\n",
        "    \"\"\" prepare data by calling prepare_X_y \n",
        "    and split_X_y\n",
        "    \"\"\"\n",
        "    self.prepare_X_y()\n",
        "    self.split_X_y()\n",
        "\n",
        "  def prepare_X_y(self):\n",
        "    \"\"\" Prepare X and y from a given dataframe\n",
        "    by converting\n",
        "    to numpy \"\"\"\n",
        "    y = np.array(self.df['engagement'])\n",
        "    self.df_x = self.df.drop(columns=[\"engagement\"])\n",
        "    self.X = np.array(self.df_x)\n",
        "    self.y = y.reshape(-1,)\n",
        "\n",
        "\n",
        "  def split_X_y(self):\n",
        "    \"\"\" Split X and y using sklearn train_test_split \"\"\"\n",
        "    self.X_train, self.X_test, self.y_train, self.y_test = train_test_split(\n",
        "        self.X, self.y, stratify=self.y, random_state=42)\n",
        "\n",
        "  def return_X_y(self):\n",
        "    \"\"\" return X and y \"\"\"\n",
        "    return self.X,self.y\n",
        "\n",
        "  def return_split_X_y(self):\n",
        "    \"\"\" return X_train, X_test, y_train and y_test \"\"\"\n",
        "    return self.X_train, self.X_test, self.y_train, self.y_test\n",
        "\n",
        "  def calculate_feature_importance(self):\n",
        "    \"\"\" Calculate feature importance of features by fitting \n",
        "        a randomforest classifier \n",
        "    \"\"\"\n",
        "    feature_names = [f'feature {i}' for i in range(self.X.shape[1])]\n",
        "    forest = RandomForestClassifier(n_estimators=100)\n",
        "    forest.fit(self.X_train, self.y_train)\n",
        "    self.importances = forest.feature_importances_\n",
        "    std = np.std([\n",
        "        tree.feature_importances_ for tree in forest.estimators_], axis=0)\n",
        "    return self.importances, std\n",
        "\n",
        "  def display_feature_importance(self):\n",
        "    \"\"\" Display feature importance \"\"\"\n",
        "    feature_df = pd.DataFrame({\"features\":self.df_x.columns,\"feature_importance\": self.importances})\n",
        "    g = sn.catplot(data=feature_df,y=\"features\",x=\"feature_importance\",kind=\"bar\")\n",
        "    return feature_df,g\n",
        "\n",
        "  def select_features(self):\n",
        "    \"\"\" select features from a random forest estimator using \n",
        "        sklearn SelectFromModel \n",
        "    \"\"\"\n",
        "    selector = SelectFromModel(estimator=RandomForestClassifier(n_estimators=100)).fit(self.X, self.y)\n",
        "    self.selected_features = self.df_x.columns[(selector.get_support())]\n",
        "    return self.selected_features\n",
        "\n",
        "  def select_features_permutuation(self):\n",
        "    clf = RandomForestClassifier(n_estimators=100).fit(self.X, self.y)\n",
        "    result = permutation_importance(clf, self.X_test, self.y_test, n_repeats=10,\n",
        "                                random_state=0)\n",
        "    return result\n",
        "\n",
        "  def data_with_selected_features(self):\n",
        "    \"\"\" select data with only the features selected\"\"\"\n",
        "    data_selected = self.df[self.selected_features]\n",
        "    return data_selected"
      ],
      "execution_count": 85,
      "outputs": []
    },
    {
      "cell_type": "code",
      "metadata": {
        "id": "c9RB9tq9JUew"
      },
      "source": [
        "fe = FeatureEngineering(df_engagement_factors)\n",
        "fe.prepare_data()"
      ],
      "execution_count": 86,
      "outputs": []
    },
    {
      "cell_type": "code",
      "metadata": {
        "id": "I8Dj4Ff4Hbqi"
      },
      "source": [
        "importances, std = fe.calculate_feature_importance()"
      ],
      "execution_count": 55,
      "outputs": []
    },
    {
      "cell_type": "code",
      "metadata": {
        "colab": {
          "base_uri": "https://localhost:8080/",
          "height": 369
        },
        "id": "T0Li6bi_M7FG",
        "outputId": "b31a7a8b-d90d-4598-d1b6-940036fe5f6d"
      },
      "source": [
        "feature_df, _ = fe.display_feature_importance()"
      ],
      "execution_count": 56,
      "outputs": [
        {
          "output_type": "display_data",
          "data": {
            "image/png": "[encoded data removed]",
            "text/plain": [
              "<Figure size 360x360 with 1 Axes>"
            ]
          },
          "metadata": {
            "needs_background": "light"
          }
        }
      ]
    },
    {
      "cell_type": "code",
      "metadata": {
        "colab": {
          "base_uri": "https://localhost:8080/",
          "height": 173
        },
        "id": "IdzZeeiGNbtP",
        "outputId": "9e6c3d9d-8734-47ec-f895-c4701537496e"
      },
      "source": [
        "feature_df"
      ],
      "execution_count": 57,
      "outputs": [
        {
          "output_type": "execute_result",
          "data": {
            "text/html": [
              "<div>\n",
              "<style scoped>\n",
              "    .dataframe tbody tr th:only-of-type {\n",
              "        vertical-align: middle;\n",
              "    }\n",
              "\n",
              "    .dataframe tbody tr th {\n",
              "        vertical-align: top;\n",
              "    }\n",
              "\n",
              "    .dataframe thead th {\n",
              "        text-align: right;\n",
              "    }\n",
              "</style>\n",
              "<table border=\"1\" class=\"dataframe\">\n",
              "  <thead>\n",
              "    <tr style=\"text-align: right;\">\n",
              "      <th></th>\n",
              "      <th>features</th>\n",
              "      <th>feature_importance</th>\n",
              "    </tr>\n",
              "  </thead>\n",
              "  <tbody>\n",
              "    <tr>\n",
              "      <th>0</th>\n",
              "      <td>AdFormat</td>\n",
              "      <td>0.378702</td>\n",
              "    </tr>\n",
              "    <tr>\n",
              "      <th>1</th>\n",
              "      <td>FoldPosition</td>\n",
              "      <td>0.146132</td>\n",
              "    </tr>\n",
              "    <tr>\n",
              "      <th>2</th>\n",
              "      <td>OS</td>\n",
              "      <td>0.312886</td>\n",
              "    </tr>\n",
              "    <tr>\n",
              "      <th>3</th>\n",
              "      <td>DeviceType</td>\n",
              "      <td>0.162280</td>\n",
              "    </tr>\n",
              "  </tbody>\n",
              "</table>\n",
              "</div>"
            ],
            "text/plain": [
              "       features  feature_importance\n",
              "0      AdFormat            0.378702\n",
              "1  FoldPosition            0.146132\n",
              "2            OS            0.312886\n",
              "3    DeviceType            0.162280"
            ]
          },
          "metadata": {},
          "execution_count": 57
        }
      ]
    },
    {
      "cell_type": "markdown",
      "metadata": {
        "id": "Tkv5shebPXBM"
      },
      "source": [
        "From the numbers and the graph above we can see that AdFormat has the largest importance out of all but his depends on the type of estimator we use and how well it has fit our data, In this case random forest was used as estimator. "
      ]
    },
    {
      "cell_type": "code",
      "metadata": {
        "id": "pWEWmUteNqQ7"
      },
      "source": [
        ""
      ],
      "execution_count": null,
      "outputs": []
    },
    {
      "cell_type": "code",
      "metadata": {
        "colab": {
          "base_uri": "https://localhost:8080/",
          "height": 408
        },
        "id": "G61Eq1aGNPSY",
        "outputId": "7d513166-1429-4ca2-d573-97233839c0ee"
      },
      "source": [
        "ax = sn.heatmap(\n",
        "    df_engagement_factors.corr(), \n",
        "    annot=True, cmap=\"coolwarm\"\n",
        ")\n",
        "plt.title(\"Correlation Map of Enagement and factors\")\n",
        "ax.set_xticklabels(\n",
        "ax.get_xticklabels(),\n",
        "rotation=45,\n",
        "horizontalalignment='right')"
      ],
      "execution_count": 48,
      "outputs": [
        {
          "output_type": "execute_result",
          "data": {
            "text/plain": [
              "[Text(0.5, 0, 'AdFormat'),\n",
              " Text(1.5, 0, 'FoldPosition'),\n",
              " Text(2.5, 0, 'OS'),\n",
              " Text(3.5, 0, 'DeviceType'),\n",
              " Text(4.5, 0, 'engagement')]"
            ]
          },
          "metadata": {},
          "execution_count": 48
        },
        {
          "output_type": "display_data",
          "data": {
            "image/png": "[encoded data removed]",
            "text/plain": [
              "<Figure size 432x288 with 2 Axes>"
            ]
          },
          "metadata": {
            "needs_background": "light"
          }
        }
      ]
    },
    {
      "cell_type": "markdown",
      "metadata": {
        "id": "ncngMlopUX3O"
      },
      "source": [
        "from the correlation map we can see the correlation between engagement and AdFormat is bigger relatively. To check we will use permutation importance"
      ]
    },
    {
      "cell_type": "code",
      "metadata": {
        "id": "FwDPGTUzUW9m"
      },
      "source": [
        "from sklearn.inspection import permutation_importance\n"
      ],
      "execution_count": 87,
      "outputs": []
    },
    {
      "cell_type": "code",
      "metadata": {
        "id": "lZSK7W9ebfs1"
      },
      "source": [
        "column_names = df_engagement_factors.columns.tolist()[:4]"
      ],
      "execution_count": 81,
      "outputs": []
    },
    {
      "cell_type": "code",
      "metadata": {
        "id": "MWNpCZlcUXER"
      },
      "source": [
        "result = fe.select_features_permutuation()\n"
      ],
      "execution_count": 88,
      "outputs": []
    },
    {
      "cell_type": "code",
      "metadata": {
        "id": "sq2-58foY_9K"
      },
      "source": [
        "forest_importances = pd.Series(result.importances_mean,index=column_names)"
      ],
      "execution_count": 89,
      "outputs": []
    },
    {
      "cell_type": "code",
      "metadata": {
        "colab": {
          "base_uri": "https://localhost:8080/"
        },
        "id": "FyPu5wDtbsPg",
        "outputId": "695adfda-608f-4219-da40-33a30054270e"
      },
      "source": [
        "forest_importances"
      ],
      "execution_count": 90,
      "outputs": [
        {
          "output_type": "execute_result",
          "data": {
            "text/plain": [
              "AdFormat        0.000008\n",
              "FoldPosition    0.000016\n",
              "OS              0.000092\n",
              "DeviceType      0.000080\n",
              "dtype: float64"
            ]
          },
          "metadata": {},
          "execution_count": 90
        }
      ]
    },
    {
      "cell_type": "code",
      "metadata": {
        "colab": {
          "base_uri": "https://localhost:8080/",
          "height": 297
        },
        "id": "RVAqdW4TaSw5",
        "outputId": "25e5ac23-950b-46e6-d4be-e82442e13369"
      },
      "source": [
        "# graph adopted from https://scikit-learn.org/stable/auto_examples/ensemble/plot_forest_importances.html\n",
        "fig, ax = plt.subplots()\n",
        "forest_importances.plot.bar(yerr=result.importances_std, ax=ax)\n",
        "ax.set_title(\"Feature importances using permutation\")\n",
        "ax.set_ylabel(\"Mean accuracy decrease\")\n",
        "fig.tight_layout()\n",
        "plt.show()"
      ],
      "execution_count": 91,
      "outputs": [
        {
          "output_type": "display_data",
          "data": {
            "image/png": "[encoded data removed]",
            "text/plain": [
              "<Figure size 432x288 with 1 Axes>"
            ]
          },
          "metadata": {
            "needs_background": "light"
          }
        }
      ]
    },
    {
      "cell_type": "markdown",
      "metadata": {
        "id": "SSVFKaGvcMJg"
      },
      "source": [
        "Here we get a result that is a bit different from the previous one. Which shows OS has more feature importance. The permutation method is less biased to high cardinal data. which in this case we don't have much of."
      ]
    },
    {
      "cell_type": "code",
      "metadata": {
        "id": "Za9i4_aRb5st"
      },
      "source": [
        ""
      ],
      "execution_count": null,
      "outputs": []
    }
  ]
}